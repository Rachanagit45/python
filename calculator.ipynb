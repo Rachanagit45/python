{
 "cells": [
  {
   "cell_type": "code",
   "execution_count": 1,
   "id": "d15e2121-e806-40dd-8cfe-8bae6bdb3ad5",
   "metadata": {},
   "outputs": [],
   "source": []
  },
  {
   "cell_type": "code",
   "execution_count": 3,
   "id": "9f4c0a58-d66b-4044-b5c4-cac8fa01f4c0",
   "metadata": {
    "tags": []
   },
   "outputs": [],
   "source": [
    "import numpy as np\n",
    "import pandas as pd"
   ]
  },
  {
   "cell_type": "code",
   "execution_count": 9,
   "id": "37ab94ee-43aa-4e7d-a561-c9867a24651e",
   "metadata": {
    "tags": []
   },
   "outputs": [
    {
     "name": "stdin",
     "output_type": "stream",
     "text": [
      "enter a: 2\n",
      "enter b: 3\n"
     ]
    },
    {
     "name": "stdout",
     "output_type": "stream",
     "text": [
      "choose the operation!!\n",
      "1. Addition\n",
      "2. Substraction\n",
      "3. multiplication\n",
      "4. Division\n",
      "5. Power\n"
     ]
    },
    {
     "name": "stdin",
     "output_type": "stream",
     "text": [
      "select one from above (1-4): 5\n"
     ]
    },
    {
     "name": "stdout",
     "output_type": "stream",
     "text": [
      "adding power b:3 to a:2....\n",
      "The a power b is 8\n"
     ]
    }
   ],
   "source": [
    "import math\n",
    "def show():\n",
    "    global a ,b\n",
    "    a=int(input('enter a:'))\n",
    "    b=int(input('enter b:'))\n",
    "    if not a or not b :\n",
    "        print (\"please value cannot be empty!!!\")\n",
    "    else:\n",
    "        menu()\n",
    "def menu():\n",
    "    print(\"choose the operation!!\")\n",
    "    print(\"1. Addition\")\n",
    "    print(\"2. Substraction\")\n",
    "    print(\"3. multiplication\")\n",
    "    print(\"4. Division\")\n",
    "    print(\"5. Power\")\n",
    "    \n",
    "    \n",
    "    choice=input(\"select one from above (1-4):\")\n",
    "    \n",
    "    if choice=='1':\n",
    "        add()\n",
    "    elif choice=='2':\n",
    "        subs()\n",
    "    elif choice=='3':\n",
    "        mults()\n",
    "    elif choice=='4':\n",
    "        divs()\n",
    "    elif choice=='5':\n",
    "        power()\n",
    "    else:\n",
    "        print(\"INVALID CHOICE\")\n",
    "\n",
    "def add():\n",
    "    print(\"adding.....\")\n",
    "    answer=a+b\n",
    "    print(f\"The addition of a and b is {answer}\")\n",
    "def subs():\n",
    "    print(\"subtracting....\")\n",
    "    answer=a-b\n",
    "    print(f\"The subtraction of a and b is {answer}\")\n",
    "def mults():\n",
    "    print(\"multuplying....\")\n",
    "    answer=a*b\n",
    "    print(f\"The multiplication of a and b is {answer}\")\n",
    "def divs():\n",
    "    print('dividing....')\n",
    "    answer=a/b\n",
    "    print(f\"The division of a and b is {answer}\")\n",
    "def power():\n",
    "    print(f'adding power b:{b} to a:{a}....')\n",
    "    answer=a**b\n",
    "    print(f\"The a power b is {answer}\")\n",
    "    \n",
    "show()\n",
    "        "
   ]
  },
  {
   "cell_type": "code",
   "execution_count": null,
   "id": "dee88e4e-3b9c-4ec1-a73f-4430aa5b5f76",
   "metadata": {},
   "outputs": [],
   "source": []
  },
  {
   "cell_type": "code",
   "execution_count": null,
   "id": "e5dd2f0c-8ace-40d4-8627-37ba74de3a6d",
   "metadata": {},
   "outputs": [],
   "source": []
  },
  {
   "cell_type": "code",
   "execution_count": null,
   "id": "21b26570-c254-4b14-96b4-d03b24fbe787",
   "metadata": {},
   "outputs": [],
   "source": []
  },
  {
   "cell_type": "code",
   "execution_count": null,
   "id": "ef870e64-f62e-4728-81b9-fc340fe6df18",
   "metadata": {},
   "outputs": [],
   "source": []
  },
  {
   "cell_type": "code",
   "execution_count": null,
   "id": "387f2487-e635-409f-8484-a9f95d4075a8",
   "metadata": {},
   "outputs": [],
   "source": []
  },
  {
   "cell_type": "code",
   "execution_count": null,
   "id": "297481b6-2eaa-446c-ba05-e66ebfdfeb82",
   "metadata": {},
   "outputs": [],
   "source": []
  }
 ],
 "metadata": {
  "kernelspec": {
   "display_name": "Python 3 (ipykernel)",
   "language": "python",
   "name": "python3"
  },
  "language_info": {
   "codemirror_mode": {
    "name": "ipython",
    "version": 3
   },
   "file_extension": ".py",
   "mimetype": "text/x-python",
   "name": "python",
   "nbconvert_exporter": "python",
   "pygments_lexer": "ipython3",
   "version": "3.11.4"
  }
 },
 "nbformat": 4,
 "nbformat_minor": 5
}
