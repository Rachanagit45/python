{
 "cells": [
  {
   "cell_type": "code",
   "execution_count": null,
   "id": "517c97bd-5b6c-4afa-866f-d68245960882",
   "metadata": {
    "tags": []
   },
   "outputs": [
    {
     "name": "stdin",
     "output_type": "stream",
     "text": [
      "Choose any (rock, scissors, or paper):  rock\n"
     ]
    },
    {
     "name": "stdout",
     "output_type": "stream",
     "text": [
      "You chose rock\n",
      "Computer chose rock\n",
      "Draw!!!!\n"
     ]
    },
    {
     "name": "stdin",
     "output_type": "stream",
     "text": [
      "Do you want to play again? (yes/no):  yes\n",
      "Choose any (rock, scissors, or paper):  rock\n"
     ]
    },
    {
     "name": "stdout",
     "output_type": "stream",
     "text": [
      "You chose rock\n",
      "Computer chose rock\n",
      "Draw!!!!\n"
     ]
    },
    {
     "name": "stdin",
     "output_type": "stream",
     "text": [
      "Do you want to play again? (yes/no):  yes\n",
      "Choose any (rock, scissors, or paper):  rock\n"
     ]
    },
    {
     "name": "stdout",
     "output_type": "stream",
     "text": [
      "You chose rock\n",
      "Computer chose paper\n",
      "You lost!!!\n"
     ]
    },
    {
     "name": "stdin",
     "output_type": "stream",
     "text": [
      "Do you want to play again? (yes/no):  yes\n",
      "Choose any (rock, scissors, or paper):  paper\n"
     ]
    },
    {
     "name": "stdout",
     "output_type": "stream",
     "text": [
      "You chose paper\n",
      "Computer chose paper\n",
      "Draw!!!!\n"
     ]
    },
    {
     "name": "stdin",
     "output_type": "stream",
     "text": [
      "Do you want to play again? (yes/no):  yes\n",
      "Choose any (rock, scissors, or paper):  scissors\n"
     ]
    },
    {
     "name": "stdout",
     "output_type": "stream",
     "text": [
      "You chose scissors\n",
      "Computer chose paper\n",
      "Congrats!! You win!!\n"
     ]
    }
   ],
   "source": [
    "import random\n",
    "\n",
    "def get_user_choice():\n",
    "    user_choice = input(\"Choose any (rock, scissors, or paper): \")\n",
    "    \n",
    "    while user_choice not in ['rock', 'paper', 'scissors']:\n",
    "        print(\"Invalid choice!!\")\n",
    "        user_choice = input(\"Choose any (rock, scissors, or paper): \")\n",
    "    return user_choice\n",
    "\n",
    "def computer_choice():\n",
    "    return random.choice(['rock', 'paper', 'scissors'])\n",
    "\n",
    "def winner(user_choice, computer_choice):\n",
    "    if user_choice == computer_choice:\n",
    "        return 'Draw!!!!'\n",
    "    elif (\n",
    "        (user_choice == 'rock' and computer_choice == 'scissors') or\n",
    "        (user_choice == 'paper' and computer_choice == 'rock') or\n",
    "        (user_choice == 'scissors' and computer_choice == 'paper')\n",
    "    ):\n",
    "        return \"Congrats!! You win!!\"\n",
    "    else:\n",
    "        return \"You lost!!!\"\n",
    "\n",
    "def main():\n",
    "    while True:\n",
    "        user_choice = get_user_choice()\n",
    "        computer_choice_value = computer_choice()\n",
    "    \n",
    "        print(f\"You chose {user_choice}\")\n",
    "        print(f\"Computer chose {computer_choice_value}\")\n",
    "    \n",
    "        result = winner(user_choice, computer_choice_value)\n",
    "    \n",
    "        print(result)\n",
    "    \n",
    "        play_again = input(\"Do you want to play again? (yes/no): \").lower()\n",
    "        if play_again != \"yes\":\n",
    "            break\n",
    "\n",
    "    print(\"Thanks for playing!\")\n",
    "\n",
    "if __name__ == \"__main__\":\n",
    "    main()\n"
   ]
  },
  {
   "cell_type": "code",
   "execution_count": null,
   "id": "ef2b389d-b6d1-4c8a-ac6d-e4e0b8687e41",
   "metadata": {},
   "outputs": [],
   "source": []
  }
 ],
 "metadata": {
  "kernelspec": {
   "display_name": "Python 3 (ipykernel)",
   "language": "python",
   "name": "python3"
  },
  "language_info": {
   "codemirror_mode": {
    "name": "ipython",
    "version": 3
   },
   "file_extension": ".py",
   "mimetype": "text/x-python",
   "name": "python",
   "nbconvert_exporter": "python",
   "pygments_lexer": "ipython3",
   "version": "3.11.4"
  }
 },
 "nbformat": 4,
 "nbformat_minor": 5
}
