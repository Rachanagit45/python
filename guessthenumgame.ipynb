{
 "cells": [
  {
   "cell_type": "code",
   "execution_count": null,
   "id": "b758406c-01ec-46c4-ac9b-ed61a3cbffbf",
   "metadata": {
    "tags": []
   },
   "outputs": [
    {
     "name": "stdout",
     "output_type": "stream",
     "text": [
      "Welcome to the game!!!\n"
     ]
    },
    {
     "name": "stdin",
     "output_type": "stream",
     "text": [
      "Enter your guess between 1 to 100:  23\n"
     ]
    },
    {
     "name": "stdout",
     "output_type": "stream",
     "text": [
      "Try higher numbers!  attempt number=1\n"
     ]
    }
   ],
   "source": [
    "import random\n",
    "def guess_the_num():\n",
    "    secret_number = random.randint(1, 100)\n",
    "    attempts = 0\n",
    "\n",
    "    print(\"Welcome to the game!!!\")\n",
    "\n",
    "    while True:\n",
    "        player_guess = int(input('Enter your guess between 1 to 100: '))\n",
    "        attempts += 1\n",
    "\n",
    "        if player_guess == secret_number:\n",
    "            print(f\"Congratulations! You guessed the number {secret_number} in {attempts} attempts.\")\n",
    "            break\n",
    "        elif player_guess < secret_number:\n",
    "            print(f\"Try higher numbers!  attempt number={attempts}\")\n",
    "        else:\n",
    "            print(f\"Try lower numbers! attempt number={attempts}\")\n",
    "guess_the_num()\n"
   ]
  },
  {
   "cell_type": "code",
   "execution_count": null,
   "id": "687eec38-e85e-4214-b071-a514a3239fe6",
   "metadata": {},
   "outputs": [],
   "source": []
  }
 ],
 "metadata": {
  "kernelspec": {
   "display_name": "Python 3 (ipykernel)",
   "language": "python",
   "name": "python3"
  },
  "language_info": {
   "codemirror_mode": {
    "name": "ipython",
    "version": 3
   },
   "file_extension": ".py",
   "mimetype": "text/x-python",
   "name": "python",
   "nbconvert_exporter": "python",
   "pygments_lexer": "ipython3",
   "version": "3.11.4"
  }
 },
 "nbformat": 4,
 "nbformat_minor": 5
}
