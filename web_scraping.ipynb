{
 "cells": [
  {
   "cell_type": "code",
   "execution_count": 9,
   "id": "db9df65e-ae8d-4c83-b64f-a4c1c91c4395",
   "metadata": {
    "tags": []
   },
   "outputs": [
    {
     "name": "stdout",
     "output_type": "stream",
     "text": [
      "/\n",
      "https://ourcollegenote.blogspot.com/\n",
      "/courses/TU/CSIT/\n",
      "/courses/TU/BIT/\n",
      "/courses/TU/BCA/\n",
      "/courses/PU/BIT(PU)/\n",
      "#\n",
      "https://forms.gle/8yhHagHoAQGb2NT6A\n",
      "https://forms.gle/AUfRUjNxDgGpnqJ97\n",
      "#\n",
      "#\n",
      "#\n",
      "#\n",
      "#\n",
      "#\n",
      "#\n",
      "#\n",
      "#\n",
      "#\n",
      "#\n",
      "#\n",
      "#\n",
      "#\n",
      "https://www.facebook.com/shant.shant.7982\n",
      "https://www.linkedin.com/in/prashant-ghimire-2a79a2125/\n",
      "https://github.com/prashant1gh\n",
      "#\n",
      "https://www.instagram.com/poudel_jayanta/\n",
      "https://www.facebook.com/rejina.ghimire.3150/\n",
      "https://www.linkedin.com/in/rejina-ghimire-921481204/\n",
      "https://www.facebook.com/prakash.neupane.125\n",
      "https://www.linkedin.com/in/prakash-neupane-bb2472202/\n",
      "https://www.facebook.com/profile.php?id=100004848285744\n",
      "https://www.instagram.com/karki__sanam/\n",
      "https://www.linkedin.com/in/sanam-karki-51ba56187\n",
      "https://www.facebook.com/sagar.acharya.967\n",
      "#\n",
      "#\n",
      "#\n",
      "#\n",
      "#\n",
      "/privacy-policy/\n",
      "https://www.facebook.com/College-Note-2230803183874835\n",
      "#\n"
     ]
    }
   ],
   "source": [
    "import requests\n",
    "from bs4 import BeautifulSoup\n",
    "\n",
    "url='https://www.collegenote.net'\n",
    "\n",
    "response=requests.get(url)\n",
    "if response.status_code==200:\n",
    "    soup=BeautifulSoup(response.text,'html.parser')\n",
    "    links=soup.find_all('a')\n",
    "    \n",
    "    for link in links:\n",
    "        print(link.get('href'))\n",
    "        \n",
    "        \n",
    "else:\n",
    "    print(\"access denied\")\n"
   ]
  },
  {
   "cell_type": "code",
   "execution_count": null,
   "id": "c3b2bc02-ff83-4f08-b6ec-6c21b17e6816",
   "metadata": {},
   "outputs": [],
   "source": []
  },
  {
   "cell_type": "code",
   "execution_count": null,
   "id": "94981e1b-5b53-4398-bf33-6059d1b964d3",
   "metadata": {},
   "outputs": [],
   "source": []
  },
  {
   "cell_type": "code",
   "execution_count": null,
   "id": "d1c4d65e-ed4b-4c53-95e8-58c568cfa5be",
   "metadata": {},
   "outputs": [],
   "source": []
  },
  {
   "cell_type": "code",
   "execution_count": null,
   "id": "aad1b33d-f9b6-4dd8-8700-ab3f4df3966e",
   "metadata": {},
   "outputs": [],
   "source": []
  },
  {
   "cell_type": "code",
   "execution_count": null,
   "id": "56c5c6c1-db11-4d7b-b404-40758e1cd929",
   "metadata": {},
   "outputs": [],
   "source": []
  }
 ],
 "metadata": {
  "kernelspec": {
   "display_name": "Python 3 (ipykernel)",
   "language": "python",
   "name": "python3"
  },
  "language_info": {
   "codemirror_mode": {
    "name": "ipython",
    "version": 3
   },
   "file_extension": ".py",
   "mimetype": "text/x-python",
   "name": "python",
   "nbconvert_exporter": "python",
   "pygments_lexer": "ipython3",
   "version": "3.11.4"
  }
 },
 "nbformat": 4,
 "nbformat_minor": 5
}
