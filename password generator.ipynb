{
 "cells": [
  {
   "cell_type": "code",
   "execution_count": 6,
   "id": "016925c8-05cd-461f-84fe-72532bd9cb94",
   "metadata": {
    "tags": []
   },
   "outputs": [
    {
     "name": "stdin",
     "output_type": "stream",
     "text": [
      "ENTER THE LENGTH OF YOUR PASSWORD: 8\n"
     ]
    },
    {
     "name": "stdout",
     "output_type": "stream",
     "text": [
      "Generated password is: LuY2fONi\n"
     ]
    }
   ],
   "source": [
    "import random\n",
    "lowercase='abcdefghijklmnopqrstuvwxyz'\n",
    "uppercase='ABCDEFGHIJKLMNOPQRSTUVWXYZ'\n",
    "digits='0123456789'\n",
    "special_characters='!@#$%^&*()-+=<>?'\n",
    "\n",
    "all_characters=lowercase+ uppercase + digits +special_characters\n",
    "\n",
    "def generate_password(length):\n",
    "    password=''.join(random.choice(all_characters)\n",
    "    for _ in range(length))\n",
    "    return password\n",
    "password_length=int(input('ENTER THE LENGTH OF YOUR PASSWORD:'))\n",
    "generate_password=generate_password(password_length)\n",
    "print(f'Generated password is: {generate_password}')\n"
   ]
  }
 ],
 "metadata": {
  "kernelspec": {
   "display_name": "Python 3 (ipykernel)",
   "language": "python",
   "name": "python3"
  },
  "language_info": {
   "codemirror_mode": {
    "name": "ipython",
    "version": 3
   },
   "file_extension": ".py",
   "mimetype": "text/x-python",
   "name": "python",
   "nbconvert_exporter": "python",
   "pygments_lexer": "ipython3",
   "version": "3.11.4"
  }
 },
 "nbformat": 4,
 "nbformat_minor": 5
}
